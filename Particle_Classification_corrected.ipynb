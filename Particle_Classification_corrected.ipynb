{
  "nbformat": 4,
  "nbformat_minor": 0,
  "metadata": {
    "colab": {
      "name": "Particle_Classification_corrected.ipynb",
      "provenance": [],
      "collapsed_sections": [
        "Ejzd7Xv96Bti",
        "jMDGsym18NtQ"
      ],
      "authorship_tag": "ABX9TyOESVnQsQOW1hVj/rw6KUNX"
    },
    "kernelspec": {
      "name": "python3",
      "display_name": "Python 3"
    },
    "accelerator": "TPU"
  },
  "cells": [
    {
      "cell_type": "markdown",
      "metadata": {
        "id": "6zJUZ4Ts7wdk",
        "colab_type": "text"
      },
      "source": [
        "Name: Sarthak Hajirnis\n",
        "\n",
        "Affiliation: Pursuing M.Sc Physics at the Institute of Science, Mumbai, India\n",
        "\n",
        "E-mail: sarthakhajirnis500@gmail.com"
      ]
    },
    {
      "cell_type": "markdown",
      "metadata": {
        "id": "kAcwqQKI5cdn",
        "colab_type": "text"
      },
      "source": [
        "# Classification of Collision events\n",
        "This notebook goes through the second approache as discussed in performing image classification using Convolutional Neural Networks."
      ]
    },
    {
      "cell_type": "code",
      "metadata": {
        "id": "4dtt42yjsyeg",
        "colab_type": "code",
        "colab": {}
      },
      "source": [
        "#Importing relevant packages\n",
        "from keras.layers.normalization import BatchNormalization\n",
        "from keras.preprocessing.image import ImageDataGenerator\n",
        "from keras.metrics import categorical_crossentropy\n",
        "from sklearn.metrics import confusion_matrix\n",
        "from keras.layers.core import Dense, Flatten\n",
        "from keras.layers.convolutional import *\n",
        "from keras.models import Sequential\n",
        "from keras.layers import Activation\n",
        "from keras.optimizers import Adam\n",
        "import matplotlib.pyplot as plt\n",
        "from keras import backend as K\n",
        "from google.colab import drive\n",
        "import pickle as pkl\n",
        "import pandas as pd\n",
        "import numpy as np\n",
        "import itertools"
      ],
      "execution_count": null,
      "outputs": []
    },
    {
      "cell_type": "code",
      "metadata": {
        "id": "gNk6rjz6twTJ",
        "colab_type": "code",
        "colab": {
          "base_uri": "https://localhost:8080/",
          "height": 121
        },
        "outputId": "dc1e54dc-65b2-4237-ef55-a59ee2ffae0f"
      },
      "source": [
        "drive.mount('/content/drive/')"
      ],
      "execution_count": null,
      "outputs": [
        {
          "output_type": "stream",
          "text": [
            "Go to this URL in a browser: https://accounts.google.com/o/oauth2/auth?client_id=947318989803-6bn6qk8qdgf4n4g3pfee6491hc0brc4i.apps.googleusercontent.com&redirect_uri=urn%3aietf%3awg%3aoauth%3a2.0%3aoob&response_type=code&scope=email%20https%3a%2f%2fwww.googleapis.com%2fauth%2fdocs.test%20https%3a%2f%2fwww.googleapis.com%2fauth%2fdrive%20https%3a%2f%2fwww.googleapis.com%2fauth%2fdrive.photos.readonly%20https%3a%2f%2fwww.googleapis.com%2fauth%2fpeopleapi.readonly\n",
            "\n",
            "Enter your authorization code:\n",
            "··········\n",
            "Mounted at /content/drive/\n"
          ],
          "name": "stdout"
        }
      ]
    },
    {
      "cell_type": "markdown",
      "metadata": {
        "id": "Ejzd7Xv96Bti",
        "colab_type": "text"
      },
      "source": [
        "# Preparing and loading the data\n",
        "The raw labelled data needed for this project comes in the form of a pickle file which needs to be unpickled using sorting function.\n",
        "\n",
        "These sorted images are then stored in our local drive. The extremely huge amount of Pion samples, which was responsible for making our model perform poorly is eing addressed here."
      ]
    },
    {
      "cell_type": "code",
      "metadata": {
        "id": "1ACY7v7_twW5",
        "colab_type": "code",
        "colab": {}
      },
      "source": [
        "with open('/content/drive/My Drive/Colab Notebooks/413061_790525_bundle_archive/event1.pkl', 'rb') as f:\n",
        "    Y_1 = pkl.load(f)\n",
        "with open('/content/drive/My Drive/Colab Notebooks/413061_790525_bundle_archive/event10.pkl', 'rb') as f:\n",
        "    Y_10 = pkl.load(f)\n",
        "with open('/content/drive/My Drive/Colab Notebooks/413061_790525_bundle_archive/event100.pkl', 'rb') as f:\n",
        "    Y_100 = pkl.load(f)\n",
        "with open('/content/drive/My Drive/Colab Notebooks/413061_790525_bundle_archive/event101.pkl', 'rb') as f:\n",
        "    Y_101 = pkl.load(f)\n",
        "with open('/content/drive/My Drive/Colab Notebooks/413061_790525_bundle_archive/event102.pkl', 'rb') as f:\n",
        "    Y_102 = pkl.load(f)\n",
        "with open('/content/drive/My Drive/Colab Notebooks/413061_790525_bundle_archive/event103.pkl', 'rb') as f:\n",
        "    Y_103 = pkl.load(f)\n",
        "with open('/content/drive/My Drive/Colab Notebooks/413061_790525_bundle_archive/event104.pkl', 'rb') as f:\n",
        "    Y_104 = pkl.load(f)\n",
        "with open('/content/drive/My Drive/Colab Notebooks/413061_790525_bundle_archive/event105.pkl', 'rb') as f:\n",
        "    Y_105 = pkl.load(f)"
      ],
      "execution_count": null,
      "outputs": []
    },
    {
      "cell_type": "code",
      "metadata": {
        "id": "uvwcPaEktwQi",
        "colab_type": "code",
        "colab": {}
      },
      "source": [
        "#Raw arrays to jpg image conversion using sorting function and image resizing\n",
        "\n",
        "def array_jpg_conversion(i,x,address):\n",
        "  from PIL import Image\n",
        "  new_p = Image.fromarray(250*(1-np.exp(-x/3)))\n",
        "  if new_p.mode != 'RGB':\n",
        "    new_p = new_p.convert('RGB')\n",
        "  new_image = new_p.resize((30, 30))\n",
        "  new_image.save(address + str(i) +'.jpeg')"
      ],
      "execution_count": null,
      "outputs": []
    },
    {
      "cell_type": "code",
      "metadata": {
        "id": "Y3gKcGO9t1Fx",
        "colab_type": "code",
        "colab": {
          "base_uri": "https://localhost:8080/",
          "height": 34
        },
        "outputId": "bab4a43f-d9b9-4ec8-9731-956fe7a4a147"
      },
      "source": [
        "#Storing these sorted images in our local drive\n",
        "#training data\n",
        "\n",
        "data = [Y_1, Y_10, Y_100, Y_101, Y_102, Y_103, Y_104, Y_105]\n",
        "iter = 0\n",
        "for j in data:\n",
        "  for i in range(0,2000):\n",
        "    iter = iter +1 \n",
        "    if (j[1][i] == 11):\n",
        "      array_jpg_conversion(i,j[0][i],'/content/drive/My Drive/Colab Notebooks/images3/train/11/')\n",
        "    elif (j[1][i] == 13):\n",
        "      array_jpg_conversion(i, j[0][i], '/content/drive/My Drive/Colab Notebooks/images3/train/13/')\n",
        "    elif (j[1][i] == 211):\n",
        "      if i<1000:\n",
        "        array_jpg_conversion(i, j[0][i], '/content/drive/My Drive/Colab Notebooks/images3/train/211/')\n",
        "      else:\n",
        "        pass\n",
        "    elif (j[1][i] == 321):\n",
        "      array_jpg_conversion(i,j[0][i],'/content/drive/My Drive/Colab Notebooks/images3/train/321/')\n",
        "    elif (j[1][i] == 2212):\n",
        "      array_jpg_conversion(i,j[0][i],'/content/drive/My Drive/Colab Notebooks/images3/train/2212/')\n",
        "print(iter)"
      ],
      "execution_count": null,
      "outputs": [
        {
          "output_type": "stream",
          "text": [
            "16000\n"
          ],
          "name": "stdout"
        }
      ]
    },
    {
      "cell_type": "code",
      "metadata": {
        "id": "t3xRsz6it1IS",
        "colab_type": "code",
        "colab": {
          "base_uri": "https://localhost:8080/",
          "height": 34
        },
        "outputId": "b6f141c9-938e-4068-8aef-f979ea84d152"
      },
      "source": [
        "#validation data\n",
        "\n",
        "data = [Y_1, Y_10, Y_100, Y_101, Y_102]\n",
        "iter = 0\n",
        "for j in data:\n",
        "  for i in range(2000,2500):\n",
        "    iter = iter +1 \n",
        "    if (j[1][i] == 11):\n",
        "      array_jpg_conversion(i,j[0][i],'/content/drive/My Drive/Colab Notebooks/images3/valid/11/')\n",
        "    elif (j[1][i] == 13):\n",
        "      array_jpg_conversion(i, j[0][i], '/content/drive/My Drive/Colab Notebooks/images3/valid/13/')\n",
        "    elif (j[1][i] == 211):\n",
        "      if i<2200:\n",
        "        array_jpg_conversion(i, j[0][i], '/content/drive/My Drive/Colab Notebooks/images3/valid/211/')\n",
        "      else:\n",
        "        pass\n",
        "    elif (j[1][i] == 321):\n",
        "      array_jpg_conversion(i,j[0][i],'/content/drive/My Drive/Colab Notebooks/images3/valid/321/')\n",
        "    elif (j[1][i] == 2212):\n",
        "      array_jpg_conversion(i,j[0][i],'/content/drive/My Drive/Colab Notebooks/images3/valid/2212/')\n",
        "print(iter)"
      ],
      "execution_count": null,
      "outputs": [
        {
          "output_type": "stream",
          "text": [
            "2500\n"
          ],
          "name": "stdout"
        }
      ]
    },
    {
      "cell_type": "code",
      "metadata": {
        "id": "tygDx3wjt1ND",
        "colab_type": "code",
        "colab": {
          "base_uri": "https://localhost:8080/",
          "height": 34
        },
        "outputId": "04dbb3c1-9fab-49fd-eb2f-290357e0041c"
      },
      "source": [
        "#prediction or testing data\n",
        "\n",
        "data = [Y_1, Y_10, Y_100, Y_101, Y_102]\n",
        "iter = 0\n",
        "for j in data:\n",
        "  for i in range(2500,2800):\n",
        "    iter = iter +1 \n",
        "    if (j[1][i] == 11):\n",
        "      array_jpg_conversion(i,j[0][i],'/content/drive/My Drive/Colab Notebooks/images3/test/11/')\n",
        "    elif (j[1][i] == 13):\n",
        "      array_jpg_conversion(i, j[0][i], '/content/drive/My Drive/Colab Notebooks/images3/test/13/')\n",
        "    elif (j[1][i] == 211):\n",
        "      if i<2550:\n",
        "        array_jpg_conversion(i, j[0][i], '/content/drive/My Drive/Colab Notebooks/images3/test/211/')\n",
        "      else:\n",
        "        pass\n",
        "    elif (j[1][i] == 321):\n",
        "      array_jpg_conversion(i,j[0][i],'/content/drive/My Drive/Colab Notebooks/images3/test/321/')\n",
        "    elif (j[1][i] == 2212):\n",
        "      array_jpg_conversion(i,j[0][i],'/content/drive/My Drive/Colab Notebooks/images3/test/2212/')\n",
        "print(iter)"
      ],
      "execution_count": null,
      "outputs": [
        {
          "output_type": "stream",
          "text": [
            "1500\n"
          ],
          "name": "stdout"
        }
      ]
    },
    {
      "cell_type": "markdown",
      "metadata": {
        "id": "jMDGsym18NtQ",
        "colab_type": "text"
      },
      "source": [
        "# Creating batches\n",
        "\n",
        "In this section, we create training, validation and testing batches by defining the relevant paths to the local directories and assigning row vector to our dataset"
      ]
    },
    {
      "cell_type": "code",
      "metadata": {
        "id": "wvioJ0-_v3q3",
        "colab_type": "code",
        "colab": {}
      },
      "source": [
        "train_path = '/content/drive/My Drive/Colab Notebooks/images3/train'\n",
        "valid_path = '/content/drive/My Drive/Colab Notebooks/images3/valid'\n",
        "test_path = '/content/drive/My Drive/Colab Notebooks/images3/test'"
      ],
      "execution_count": null,
      "outputs": []
    },
    {
      "cell_type": "code",
      "metadata": {
        "id": "CIwljK_Tw4P_",
        "colab_type": "code",
        "colab": {
          "base_uri": "https://localhost:8080/",
          "height": 67
        },
        "outputId": "620e06ab-717e-4406-d545-a2b0cbe68b5d"
      },
      "source": [
        "train_batches = ImageDataGenerator().flow_from_directory(train_path, target_size = (30,30), classes = ['11','13','211','321','2212'], batch_size = 15)\n",
        "valid_batches = ImageDataGenerator().flow_from_directory(valid_path, target_size = (30,30), classes = ['11','13','211','321','2212'], batch_size = 15)\n",
        "test_batches = ImageDataGenerator().flow_from_directory(test_path, target_size = (30,30), classes = ['11','13','211','321','2212'], batch_size = 15)"
      ],
      "execution_count": null,
      "outputs": [
        {
          "output_type": "stream",
          "text": [
            "Found 3489 images belonging to 5 classes.\n",
            "Found 641 images belonging to 5 classes.\n",
            "Found 326 images belonging to 5 classes.\n"
          ],
          "name": "stdout"
        }
      ]
    },
    {
      "cell_type": "code",
      "metadata": {
        "id": "gM5GsMDcxDkw",
        "colab_type": "code",
        "colab": {
          "base_uri": "https://localhost:8080/",
          "height": 170
        },
        "outputId": "7b8f683e-7106-4176-a173-cfec00adaac2"
      },
      "source": [
        "# plots images with labels within jupyter notebook\n",
        "def plots(ims, figsize=(50,50), rows=1, interp=False, titles=None):\n",
        "    if type(ims[0]) is np.ndarray:\n",
        "        ims = np.array(ims).astype(np.uint8)\n",
        "        if (ims.shape[-1] != 3):\n",
        "            ims = ims.transpose((0,2,3,1))\n",
        "    f = plt.figure(figsize=figsize)\n",
        "    cols = len(ims)//rows if len(ims) % 2 == 0 else len(ims)//rows + 1\n",
        "    for i in range(len(ims)):\n",
        "        sp = f.add_subplot(rows, cols, i+1)\n",
        "        sp.axis('Off')\n",
        "        if titles is not None:\n",
        "            sp.set_title(titles[i], fontsize=26)\n",
        "        plt.imshow(ims[i], interpolation=None if interp else 'none')\n",
        "imgs, labels = next(train_batches)\n",
        "plots(imgs, titles=labels)"
      ],
      "execution_count": null,
      "outputs": [
        {
          "output_type": "stream",
          "text": [
            "/usr/local/lib/python3.6/dist-packages/matplotlib/text.py:1165: FutureWarning: elementwise comparison failed; returning scalar instead, but in the future will perform elementwise comparison\n",
            "  if s != self._text:\n"
          ],
          "name": "stderr"
        },
        {
          "output_type": "display_data",
          "data": {
            "image/png": "[encoded data removed]",
            "text/plain": [
              "<Figure size 3600x3600 with 15 Axes>"
            ]
          },
          "metadata": {
            "tags": [],
            "needs_background": "light"
          }
        }
      ]
    },
    {
      "cell_type": "markdown",
      "metadata": {
        "id": "qWoPPMdH9_TA",
        "colab_type": "text"
      },
      "source": [
        "# Machine Learning\n",
        "Creating the neural network, optimization and prediction of our model on new unseen images."
      ]
    },
    {
      "cell_type": "code",
      "metadata": {
        "id": "JXfbpOGIxP1Y",
        "colab_type": "code",
        "colab": {
          "base_uri": "https://localhost:8080/",
          "height": 370
        },
        "outputId": "52df3fb2-7115-4cc2-a340-57769668d707"
      },
      "source": [
        "# Create the model\n",
        "\n",
        "model = Sequential([\n",
        "        Conv2D(32, (3, 3), activation = 'relu', input_shape = (30,30,3), padding = 'same'),\n",
        "        Conv2D(32, (3, 3), activation = 'relu', padding = 'same'),\n",
        "        Flatten(),\n",
        "        Dense(1000, activation = 'relu'),\n",
        "        Dense(500, activation = 'relu'),\n",
        "        Dense(5, activation = 'softmax'),\n",
        "])\n",
        "print(model.summary())"
      ],
      "execution_count": null,
      "outputs": [
        {
          "output_type": "stream",
          "text": [
            "Model: \"sequential\"\n",
            "_________________________________________________________________\n",
            "Layer (type)                 Output Shape              Param #   \n",
            "=================================================================\n",
            "conv2d (Conv2D)              (None, 30, 30, 32)        896       \n",
            "_________________________________________________________________\n",
            "conv2d_1 (Conv2D)            (None, 30, 30, 32)        9248      \n",
            "_________________________________________________________________\n",
            "flatten (Flatten)            (None, 28800)             0         \n",
            "_________________________________________________________________\n",
            "dense (Dense)                (None, 1000)              28801000  \n",
            "_________________________________________________________________\n",
            "dense_1 (Dense)              (None, 500)               500500    \n",
            "_________________________________________________________________\n",
            "dense_2 (Dense)              (None, 5)                 2505      \n",
            "=================================================================\n",
            "Total params: 29,314,149\n",
            "Trainable params: 29,314,149\n",
            "Non-trainable params: 0\n",
            "_________________________________________________________________\n",
            "None\n"
          ],
          "name": "stdout"
        }
      ]
    },
    {
      "cell_type": "code",
      "metadata": {
        "id": "lVhJ3O-DkvHw",
        "colab_type": "code",
        "colab": {
          "base_uri": "https://localhost:8080/",
          "height": 706
        },
        "outputId": "9e56c727-e37a-4049-9de9-9d1bef3c8c8a"
      },
      "source": [
        "model.compile(Adam(lr = 0.001), loss = 'categorical_crossentropy', metrics = ['accuracy'])\n",
        "\n",
        "#steps_per_epoch = no. of images in training/batch_size\n",
        "#validation_steps = no. of images in validation/batch_size\n",
        "history = model.fit_generator(train_batches, steps_per_epoch = 232, validation_data = valid_batches, validation_steps = 42, epochs = 20, verbose = 2)"
      ],
      "execution_count": null,
      "outputs": [
        {
          "output_type": "stream",
          "text": [
            "Epoch 1/20 \n",
            " - 95s - loss: 3.1280 - accuracy: 0.3501 - val_loss: 1.6520 - val_accuracy: 0.3332 \n",
            " Epoch 2/20 \n",
            " - 95s - loss: 1.0980 - accuracy: 0.4069 - val_loss: 1.2330 - val_accuracy: 0.3156 \n",
            " Epoch 3/20 \n",
            " - 95s - loss: 0.9960 - accuracy: 0.4356 - val_loss: 1.0890 - val_accuracy: 0.3906 \n",
            " Epoch 4/20 \n",
            " - 99s - loss: 0.8954 - accuracy: 0.4569 - val_loss: 0.9654 - val_accuracy: 0.4217 \n",
            " Epoch 5/20 \n",
            " - 96s - loss: 0.8654 - accuracy: 0.4758 - val_loss: 0.9632 - val_accuracy: 0.4040 \n",
            " Epoch 6/20 \n",
            " - 96s - loss: 0.7852 - accuracy: 0.4929 - val_loss: 0.9700 - val_accuracy: 0.4592 \n",
            " Epoch 7/20 \n",
            " - 97s - loss: 0.7200 - accuracy: 0.5156 - val_loss: 0.8745 - val_accuracy: 0.4708 \n",
            " Epoch 8/20 \n",
            " - 96s - loss: 0.6888 - accuracy: 0.5396 - val_loss: 0.8579 - val_accuracy: 0.4566 \n",
            " Epoch 9/20 \n",
            " - 96s - loss: 0.6311 - accuracy: 0.5629 - val_loss: 0.8000 - val_accuracy: 0.4632 \n",
            " Epoch 10/20 \n",
            " - 99s - loss: 0.6917 - accuracy: 0.5826 - val_loss: 0.8455 - val_accuracy: 0.4752 \n",
            " Epoch 11/20 \n",
            " - 96s - loss: 0.6423 - accuracy: 0.6011 - val_loss: 0.7623 - val_accuracy: 0.4923 \n",
            " Epoch 12/20 \n",
            " - 96s - loss: 0.5109 - accuracy: 0.6201 - val_loss: 0.7911 - val_accuracy: 0.5057 \n",
            " Epoch 13/20 \n",
            " - 96s - loss: 0.5001 - accuracy: 0.6393 - val_loss: 0.6989 - val_accuracy: 0.5011 \n",
            " Epoch 14/20 \n",
            " - 96s - loss: 0.4854 - accuracy: 0.6405 - val_loss: 0.7058 - val_accuracy: 0.5262 \n",
            " Epoch 15/20 \n",
            " - 95s - loss: 0.4469 - accuracy: 0.6599 - val_loss: 0.9820 - val_accuracy: 0.5233 \n",
            " Epoch 16/20 \n",
            " - 95s - loss: 0.5010 - accuracy: 0.6610 - val_loss: 0.5326 - val_accuracy: 0.5526 \n",
            " Epoch 17/20 \n",
            " - 98s - loss: 0.3102 - accuracy: 0.6690 - val_loss: 0.7941 - val_accuracy: 0.5541 \n",
            " Epoch 18/20 \n",
            " - 95s - loss: 0.3211 - accuracy: 0.6745 - val_loss: 0.5579 - val_accuracy: 0.5679 \n",
            " Epoch 19/20 \n",
            " - 95s - loss: 0.2801 - accuracy: 0.6790 - val_loss: 0.6800 - val_accuracy: 0.5700 \n",
            " Epoch 20/20 \n",
            " - 94s - loss: 0.1850 - accuracy: 0.6835 - val_loss: 0.6874 - val_accuracy: 0.5774 \n",
            "\n"
          ],
          "name": "stdout"
        }
      ]
    },
    {
      "cell_type": "code",
      "metadata": {
        "id": "ScLL7bocGgkC",
        "colab_type": "code",
        "colab": {
          "base_uri": "https://localhost:8080/",
          "height": 573
        },
        "outputId": "529a8f64-5668-4036-9bb9-f2dfc3aea90c"
      },
      "source": [
        "#Plotting the results\n",
        "\n",
        "accuracy = history.history['accuracy']\n",
        "val_accuracy = history.history['val_accuracy']\n",
        "loss = history.history['loss']\n",
        "val_loss = history.history['val_loss']\n",
        "\n",
        "plt.plot(loss)\n",
        "plt.plot(val_loss)\n",
        "plt.title('Loss')\n",
        "plt.ylabel('Loss')\n",
        "plt.xlabel('Epoch')\n",
        "plt.legend(['training loss', 'validation loss'])\n",
        "plt.show()\n",
        "\n",
        "plt.plot(accuracy)\n",
        "plt.plot(val_accuracy)\n",
        "plt.title('Accuracy')\n",
        "plt.ylabel('Accuracy')\n",
        "plt.xlabel('Epoch')\n",
        "plt.legend(['training accuracy', 'validation accuracy'])\n",
        "plt.show()"
      ],
      "execution_count": null,
      "outputs": [
        {
          "output_type": "display_data",
          "data": {
            "image/png": "[encoded data removed]",
            "text/plain": [
              "<Figure size 432x288 with 1 Axes>"
            ]
          },
          "metadata": {
            "tags": [],
            "needs_background": "light"
          }
        },
        {
          "output_type": "display_data",
          "data": {
            "image/png": "[encoded data removed]",
            "text/plain": [
              "<Figure size 432x288 with 1 Axes>"
            ]
          },
          "metadata": {
            "tags": [],
            "needs_background": "light"
          }
        }
      ]
    },
    {
      "cell_type": "code",
      "metadata": {
        "id": "kUa_WWoixkwJ",
        "colab_type": "code",
        "colab": {
          "base_uri": "https://localhost:8080/",
          "height": 170
        },
        "outputId": "227c634e-e0ec-4fac-fadb-26a2168f7e7a"
      },
      "source": [
        "#Creating prediction/testing batches\n",
        "\n",
        "test_imgs, test_labels = next(test_batches)\n",
        "plots(test_imgs, titles=test_labels)"
      ],
      "execution_count": null,
      "outputs": [
        {
          "output_type": "stream",
          "text": [
            "/usr/local/lib/python3.6/dist-packages/matplotlib/text.py:1165: FutureWarning: elementwise comparison failed; returning scalar instead, but in the future will perform elementwise comparison\n",
            "  if s != self._text:\n"
          ],
          "name": "stderr"
        },
        {
          "output_type": "display_data",
          "data": {
            "image/png": "[encoded data removed]",
            "text/plain": [
              "<Figure size 3600x3600 with 15 Axes>"
            ]
          },
          "metadata": {
            "tags": [],
            "needs_background": "light"
          }
        }
      ]
    },
    {
      "cell_type": "code",
      "metadata": {
        "id": "sz0OWDJSyi-X",
        "colab_type": "code",
        "colab": {
          "base_uri": "https://localhost:8080/",
          "height": 1000
        },
        "outputId": "45b46285-8023-4e2f-f64b-a6f69fa400ad"
      },
      "source": [
        "#Prediction\n",
        "\n",
        "predictions = model.predict_generator(test_batches, steps=12, verbose=0)\n",
        "#steps = no of images in test/batch_size\n",
        "print(predictions)"
      ],
      "execution_count": null,
      "outputs": [
        {
          "output_type": "stream",
          "text": [
            "[[1.75446039e-04 5.03696428e-05 2.26292297e-01 5.21636903e-01\n",
            "  2.51844972e-01]\n",
            " [1.01818943e-04 2.66069833e-06 3.44646461e-02 5.29560864e-01\n",
            "  4.35870022e-01]\n",
            " [1.57948831e-04 5.00777678e-05 6.02606274e-02 3.13777030e-01\n",
            "  6.25754297e-01]\n",
            " [8.16199201e-16 1.80801157e-26 1.38405181e-08 1.34049216e-03\n",
            "  9.98659492e-01]\n",
            " [2.45654246e-06 7.16880333e-10 7.69574009e-03 3.60169381e-01\n",
            "  6.32132471e-01]\n",
            " [1.54876448e-02 1.36406015e-04 1.58187047e-01 3.28620344e-01\n",
            "  4.97568578e-01]\n",
            " [1.70123938e-03 4.52486347e-05 3.81373495e-01 4.04691249e-01\n",
            "  2.12188736e-01]\n",
            " [6.20668696e-04 2.72307489e-06 5.88866472e-01 3.71131808e-01\n",
            "  3.93783711e-02]\n",
            " [2.00225713e-06 1.29354596e-10 2.43547812e-01 6.52862728e-01\n",
            "  1.03587478e-01]\n",
            " [1.74352259e-03 9.25963686e-05 4.24681276e-01 3.02151650e-01\n",
            "  2.71330923e-01]\n",
            " [1.87005079e-03 9.01184321e-05 7.41835777e-03 4.40403253e-01\n",
            "  5.50218284e-01]\n",
            " [3.11453419e-04 2.26562006e-05 4.38129514e-01 4.55741018e-01\n",
            "  1.05795331e-01]\n",
            " [1.97709032e-05 1.93587894e-05 1.67413309e-01 5.34235597e-01\n",
            "  2.98311979e-01]\n",
            " [1.03856981e-01 1.62571014e-05 3.55404526e-01 5.13219953e-01\n",
            "  2.75022555e-02]\n",
            " [2.37710523e-07 9.96177096e-06 8.13947201e-01 1.47757113e-01\n",
            "  3.82855572e-02]\n",
            " [4.75731576e-05 1.79501018e-08 1.56000718e-01 1.78661123e-01\n",
            "  6.65290594e-01]\n",
            " [4.35427215e-11 2.55564911e-13 9.82956171e-01 1.43957734e-02\n",
            "  2.64808955e-03]\n",
            " [2.48914841e-03 1.93665386e-03 3.78896087e-01 4.48193341e-01\n",
            "  1.68484718e-01]\n",
            " [8.80127214e-03 1.65144374e-05 1.45598054e-01 4.30146992e-01\n",
            "  4.15437102e-01]\n",
            " [1.94074586e-04 8.48290937e-10 1.70119941e-01 6.33632243e-01\n",
            "  1.96053758e-01]\n",
            " [2.00504959e-02 6.97585521e-03 4.34028476e-01 3.35173666e-01\n",
            "  2.03771576e-01]\n",
            " [2.70679215e-04 2.27248250e-03 7.08929420e-01 8.03833976e-02\n",
            "  2.08144039e-01]\n",
            " [2.09089303e-05 1.67886070e-11 1.31475681e-03 9.87436891e-01\n",
            "  1.12274932e-02]\n",
            " [3.83469933e-06 1.66287791e-07 9.12030160e-01 2.59536710e-02\n",
            "  6.20121770e-02]\n",
            " [6.60434525e-05 1.58306539e-05 4.79816139e-01 3.30074094e-02\n",
            "  4.87094671e-01]\n",
            " [2.90190783e-05 6.27521646e-10 2.09181368e-01 6.15171134e-01\n",
            "  1.75618440e-01]\n",
            " [1.90930516e-02 1.11971155e-03 3.68152678e-01 1.02704860e-01\n",
            "  5.08929729e-01]\n",
            " [1.24353183e-09 7.41073088e-12 1.92539097e-04 1.28490120e-01\n",
            "  8.71317387e-01]\n",
            " [2.84665916e-03 1.91481333e-04 3.34200978e-01 5.51549137e-01\n",
            "  1.11211814e-01]\n",
            " [2.11650622e-04 1.82559692e-08 9.80076253e-01 1.86329037e-02\n",
            "  1.07911241e-03]\n",
            " [4.01809841e-04 4.02736696e-05 2.08939061e-01 1.10434838e-01\n",
            "  6.80184007e-01]\n",
            " [1.86071877e-04 1.31998013e-05 2.49918759e-01 1.46588326e-01\n",
            "  6.03293657e-01]\n",
            " [1.06053755e-01 4.94911819e-06 3.34018052e-01 4.49739039e-01\n",
            "  1.10184208e-01]\n",
            " [4.57690066e-06 3.06922129e-06 1.12385571e-01 6.28428012e-02\n",
            "  8.24763954e-01]\n",
            " [4.70596505e-03 4.12248494e-03 3.77583474e-01 3.94364357e-01\n",
            "  2.19223708e-01]\n",
            " [1.19598772e-05 1.98024509e-06 2.33096361e-01 3.85902494e-01\n",
            "  3.80987167e-01]\n",
            " [4.61247751e-08 3.71772708e-12 1.63498300e-03 7.51297951e-01\n",
            "  2.47067034e-01]\n",
            " [1.06921470e-04 6.82511896e-08 2.94813573e-01 6.80051863e-01\n",
            "  2.50275228e-02]\n",
            " [1.93323489e-04 3.50648257e-08 6.32367507e-02 9.33557749e-01\n",
            "  3.01212026e-03]\n",
            " [1.61042083e-02 4.94482415e-03 3.79558623e-01 3.95817280e-01\n",
            "  2.03575030e-01]\n",
            " [9.02357513e-08 1.01937573e-07 9.65217292e-01 4.98087099e-03\n",
            "  2.98015885e-02]\n",
            " [1.14639755e-04 2.44298833e-04 4.58620936e-01 1.21001624e-01\n",
            "  4.20018494e-01]\n",
            " [1.58574924e-11 3.86410104e-16 9.92058098e-01 7.93003384e-03\n",
            "  1.18868220e-05]\n",
            " [4.62464595e-05 4.41236538e-04 3.97127301e-01 2.25628644e-01\n",
            "  3.76756608e-01]\n",
            " [7.14248791e-03 1.30993385e-06 4.28814292e-01 7.34691694e-02\n",
            "  4.90572661e-01]\n",
            " [5.91399019e-09 1.12255961e-10 9.99767959e-01 2.27625016e-04\n",
            "  4.41362727e-06]\n",
            " [2.70679215e-04 2.27248250e-03 7.08929420e-01 8.03833976e-02\n",
            "  2.08144039e-01]\n",
            " [1.45012964e-04 8.74737725e-06 4.34099406e-01 3.95933300e-01\n",
            "  1.69813603e-01]\n",
            " [5.65258379e-05 5.94399171e-05 8.57271373e-01 5.08789718e-02\n",
            "  9.17336568e-02]\n",
            " [1.61434559e-03 2.92309356e-04 2.48572782e-01 4.76502329e-01\n",
            "  2.73018211e-01]\n",
            " [1.39710738e-03 1.33687399e-06 3.92452806e-01 6.03517294e-01\n",
            "  2.63146474e-03]\n",
            " [1.15106767e-03 4.76333866e-04 3.66941452e-01 3.67445916e-01\n",
            "  2.63985187e-01]\n",
            " [1.29838306e-02 3.50789342e-04 2.24468529e-01 4.23378944e-01\n",
            "  3.38817894e-01]\n",
            " [1.31816939e-02 5.48061544e-05 2.62760878e-01 4.32046682e-01\n",
            "  2.91955948e-01]\n",
            " [1.38346562e-02 1.92616403e-06 4.15372223e-01 4.71235216e-01\n",
            "  9.95560363e-02]\n",
            " [2.02527303e-06 8.46066484e-07 2.30361093e-02 2.50139050e-02\n",
            "  9.51947093e-01]\n",
            " [8.96399797e-05 4.82051721e-04 7.64411464e-02 9.04675364e-01\n",
            "  1.83117166e-02]\n",
            " [2.04967131e-04 1.48008825e-04 8.60105008e-02 2.38361150e-01\n",
            "  6.75275326e-01]\n",
            " [9.94825549e-03 1.61619403e-06 2.75911957e-01 3.40618454e-02\n",
            "  6.80076301e-01]\n",
            " [1.07002747e-03 7.46843440e-08 6.08817562e-02 9.12174463e-01\n",
            "  2.58737449e-02]\n",
            " [9.86581206e-01 4.34355929e-09 5.73170837e-04 1.88790739e-03\n",
            "  1.09576704e-02]\n",
            " [8.11436355e-01 5.00033877e-07 5.60705103e-02 9.11256075e-02\n",
            "  4.13670614e-02]\n",
            " [1.56682248e-07 6.11956263e-09 9.99508381e-01 1.29207168e-04\n",
            "  3.62373888e-04]\n",
            " [7.82192592e-03 5.63198992e-04 6.41263306e-01 3.41451138e-01\n",
            "  8.90041050e-03]\n",
            " [1.99092727e-04 1.47375704e-05 8.58594835e-01 1.25262082e-01\n",
            "  1.59293022e-02]\n",
            " [5.31377085e-03 2.98881228e-03 3.73502403e-01 2.30162263e-01\n",
            "  3.88032794e-01]\n",
            " [1.13144285e-08 4.63441785e-12 3.30657452e-01 3.55264634e-01\n",
            "  3.14077914e-01]\n",
            " [4.13465386e-08 8.50700586e-13 9.98575091e-01 1.33658585e-03\n",
            "  8.83437169e-05]\n",
            " [3.63033439e-04 5.77626284e-04 5.75157702e-01 1.43677086e-01\n",
            "  2.80224502e-01]\n",
            " [3.73358615e-02 1.47969491e-04 2.32507020e-01 6.70852900e-01\n",
            "  5.91561534e-02]\n",
            " [3.31266820e-05 1.53868214e-07 6.76189184e-01 3.21067542e-01\n",
            "  2.71002133e-03]\n",
            " [3.42613878e-03 8.65593785e-04 3.70906979e-01 4.47662115e-01\n",
            "  1.77139178e-01]\n",
            " [5.09495195e-03 3.64218213e-05 1.83464229e-01 3.20716143e-01\n",
            "  4.90688235e-01]\n",
            " [1.09155400e-04 1.77705510e-06 9.77331996e-02 7.97800303e-01\n",
            "  1.04355499e-01]\n",
            " [5.59339105e-06 2.15868490e-10 1.10133747e-02 9.41953361e-01\n",
            "  4.70276959e-02]\n",
            " [2.82996986e-03 9.48414020e-03 4.42196757e-01 2.83905953e-01\n",
            "  2.61583179e-01]\n",
            " [4.94165943e-05 2.60466138e-08 1.06879152e-01 8.54328573e-01\n",
            "  3.87428477e-02]\n",
            " [8.62982997e-04 1.97066474e-05 5.75360715e-01 2.84172952e-01\n",
            "  1.39583677e-01]\n",
            " [2.91023912e-06 1.40566452e-04 7.11692810e-01 8.03325251e-02\n",
            "  2.07831264e-01]\n",
            " [2.08658685e-06 1.78004793e-05 2.94609852e-02 9.64001566e-03\n",
            "  9.60879087e-01]\n",
            " [5.78773006e-06 5.88586602e-07 1.53801339e-02 8.11899445e-05\n",
            "  9.84532297e-01]\n",
            " [4.31747358e-05 2.65395238e-06 8.53603721e-01 1.04751736e-01\n",
            "  4.15987931e-02]\n",
            " [8.47136471e-05 1.03206423e-06 3.04688327e-03 9.31717873e-01\n",
            "  6.51496053e-02]\n",
            " [9.15204699e-04 2.84309135e-06 9.24450099e-01 6.11779280e-02\n",
            "  1.34538896e-02]\n",
            " [1.11748390e-02 9.43075702e-06 3.98271650e-01 2.30670258e-01\n",
            "  3.59873801e-01]\n",
            " [1.04568237e-04 3.45153694e-06 6.35240316e-01 2.42852196e-01\n",
            "  1.21799551e-01]\n",
            " [7.26455823e-04 2.98110826e-04 4.14791822e-01 2.93612927e-01\n",
            "  2.90570706e-01]\n",
            " [1.46820361e-03 3.09743074e-04 6.40319586e-02 8.33541453e-01\n",
            "  1.00648619e-01]\n",
            " [4.17148636e-04 7.37887035e-07 9.96121585e-01 1.55344966e-03\n",
            "  1.90703094e-03]\n",
            " [5.91676735e-06 7.88357397e-08 7.96909034e-02 1.87076554e-01\n",
            "  7.33226597e-01]\n",
            " [6.38977508e-04 2.15228815e-02 3.13922256e-01 6.32600784e-02\n",
            "  6.00655854e-01]\n",
            " [2.63030088e-04 2.52151294e-05 4.45084363e-01 1.71305194e-01\n",
            "  3.83322179e-01]\n",
            " [6.91648165e-04 1.42351973e-05 2.89676011e-01 6.57380760e-01\n",
            "  5.22373952e-02]\n",
            " [3.47399124e-04 4.09817943e-07 3.32001820e-02 3.71154964e-01\n",
            "  5.95297039e-01]\n",
            " [2.48379004e-03 6.01094416e-06 1.20659500e-01 4.44521978e-02\n",
            "  8.32398474e-01]\n",
            " [6.58844283e-06 8.94946126e-08 2.15556473e-01 6.95246518e-01\n",
            "  8.91902745e-02]\n",
            " [1.83188356e-02 1.74809131e-04 1.67564169e-01 3.50224257e-01\n",
            "  4.63717878e-01]\n",
            " [6.10350491e-03 3.40611441e-03 2.10986570e-01 4.78137136e-01\n",
            "  3.01366717e-01]\n",
            " [1.66126788e-02 3.40290426e-04 3.33781362e-01 4.42169696e-01\n",
            "  2.07096025e-01]\n",
            " [7.51594082e-04 1.25353318e-02 2.87231594e-01 4.24221039e-01\n",
            "  2.75260419e-01]\n",
            " [1.22149219e-03 1.19014891e-04 3.83163929e-01 4.05765504e-01\n",
            "  2.09730104e-01]\n",
            " [8.09310109e-07 6.55185801e-12 1.91657856e-01 8.03477824e-01\n",
            "  4.86355415e-03]\n",
            " [4.20620898e-04 2.81781657e-04 6.91244304e-02 8.57120752e-02\n",
            "  8.44461083e-01]\n",
            " [3.53114284e-03 2.53584003e-03 3.47210586e-01 2.61742562e-01\n",
            "  3.84979814e-01]\n",
            " [8.76763170e-06 4.77765738e-09 9.39534545e-01 3.95113323e-03\n",
            "  5.65055571e-02]\n",
            " [9.18577984e-03 8.23736715e-04 3.45037133e-01 5.01341045e-01\n",
            "  1.43612295e-01]\n",
            " [1.77363313e-06 6.80303219e-06 5.51511228e-01 3.60588171e-02\n",
            "  4.12421405e-01]\n",
            " [1.41221585e-06 1.91769982e-06 1.01040222e-01 8.95917892e-01\n",
            "  3.03857122e-03]\n",
            " [3.16520571e-03 4.55306008e-07 2.04318330e-01 4.15158331e-01\n",
            "  3.77357721e-01]\n",
            " [1.07635697e-03 1.28494903e-05 1.80063769e-01 5.50513804e-01\n",
            "  2.68333197e-01]\n",
            " [1.11778202e-02 4.99049143e-04 2.27719590e-01 3.83080304e-01\n",
            "  3.77523214e-01]\n",
            " [3.30478157e-04 1.06473533e-04 4.71041888e-01 3.01754087e-01\n",
            "  2.26767093e-01]\n",
            " [1.57948831e-04 5.00777678e-05 6.02606274e-02 3.13777030e-01\n",
            "  6.25754297e-01]\n",
            " [1.45012964e-04 8.74737725e-06 4.34099406e-01 3.95933300e-01\n",
            "  1.69813603e-01]\n",
            " [3.57747806e-04 1.45362029e-02 2.52329409e-01 2.92017609e-01\n",
            "  4.40759093e-01]\n",
            " [5.09654565e-05 1.31544527e-06 2.07069471e-01 5.49749434e-01\n",
            "  2.43128821e-01]\n",
            " [2.85719079e-03 5.94425728e-07 7.00305939e-01 2.78261364e-01\n",
            "  1.85749177e-02]\n",
            " [4.05435311e-03 1.40527135e-03 9.48033854e-02 4.40818250e-01\n",
            "  4.58918810e-01]\n",
            " [4.14783228e-03 1.40829652e-05 2.18075201e-01 3.79401237e-01\n",
            "  3.98361683e-01]\n",
            " [2.87464445e-07 1.11063505e-08 5.74301183e-02 9.27984715e-01\n",
            "  1.45848040e-02]\n",
            " [8.89932892e-08 1.04975169e-11 9.96618330e-01 3.13510164e-03\n",
            "  2.46581651e-04]\n",
            " [8.88893774e-05 3.78328950e-05 8.91190469e-02 3.08051016e-02\n",
            "  8.79949152e-01]\n",
            " [2.10793325e-04 9.08070579e-05 1.13659874e-01 6.97748125e-01\n",
            "  1.88290343e-01]\n",
            " [2.84666033e-03 1.91481333e-04 3.34200978e-01 5.51549137e-01\n",
            "  1.11211814e-01]\n",
            " [6.17538132e-02 2.90609110e-04 2.47868165e-01 4.86232638e-01\n",
            "  2.03854784e-01]\n",
            " [1.58214197e-02 7.17909643e-05 2.14097813e-01 7.09838152e-01\n",
            "  6.01708069e-02]\n",
            " [2.87547312e-03 1.05243544e-06 8.41401294e-02 1.12127930e-01\n",
            "  8.00855398e-01]\n",
            " [9.31728445e-03 4.06522537e-04 3.48872304e-01 4.57654238e-01\n",
            "  1.83749676e-01]\n",
            " [1.71771329e-02 2.04619789e-03 2.82158136e-01 1.78910002e-01\n",
            "  5.19708574e-01]\n",
            " [1.22951511e-02 2.64283017e-06 3.48275751e-01 6.09490275e-01\n",
            "  2.99361851e-02]\n",
            " [1.30188477e-04 1.65496097e-08 5.63964844e-02 3.87588054e-01\n",
            "  5.55885255e-01]\n",
            " [1.78568109e-06 3.62772339e-13 4.11730231e-04 9.99400735e-01\n",
            "  1.85728757e-04]\n",
            " [4.61067911e-03 4.39293310e-03 4.91508722e-01 3.03826481e-01\n",
            "  1.95661113e-01]\n",
            " [2.88738229e-04 4.23288759e-04 8.41030240e-01 1.28906459e-01\n",
            "  2.93512400e-02]\n",
            " [5.91399019e-09 1.12255961e-10 9.99767959e-01 2.27624783e-04\n",
            "  4.41362681e-06]\n",
            " [2.16962094e-03 5.05008851e-04 3.49007398e-01 4.75373000e-01\n",
            "  1.72944888e-01]\n",
            " [4.84946650e-04 3.33228058e-06 8.52690786e-02 4.05334890e-01\n",
            "  5.08907735e-01]\n",
            " [1.83188356e-02 1.74809131e-04 1.67564169e-01 3.50224257e-01\n",
            "  4.63717878e-01]\n",
            " [3.42613878e-03 8.65593785e-04 3.70906979e-01 4.47662115e-01\n",
            "  1.77139178e-01]\n",
            " [1.45248054e-02 2.30201513e-01 3.81127119e-01 2.06557199e-01\n",
            "  1.67589337e-01]\n",
            " [1.71069172e-03 7.03206286e-04 3.58918607e-01 4.56200778e-01\n",
            "  1.82466760e-01]\n",
            " [9.99178854e-04 9.50046256e-03 6.34597003e-01 3.04667205e-01\n",
            "  5.02361692e-02]\n",
            " [7.10520226e-07 1.59315878e-05 1.07455373e-01 4.25891206e-03\n",
            "  8.88269067e-01]\n",
            " [2.56800931e-02 4.69802262e-06 2.08505303e-01 3.18478227e-01\n",
            "  4.47331697e-01]\n",
            " [3.92438487e-05 6.05051218e-06 9.26752210e-01 7.52997026e-03\n",
            "  6.56725243e-02]\n",
            " [2.03986565e-04 2.81785091e-04 3.46351027e-01 4.14869159e-01\n",
            "  2.38294050e-01]\n",
            " [2.20649008e-06 9.01740158e-17 3.27013840e-05 4.48758755e-08\n",
            "  9.99965072e-01]\n",
            " [1.70246291e-04 4.49445245e-08 4.38280731e-01 5.12889981e-01\n",
            "  4.86590341e-02]\n",
            " [4.88351274e-04 9.10848030e-05 2.70498276e-01 4.32842046e-01\n",
            "  2.96080232e-01]\n",
            " [3.02746939e-03 1.11330952e-02 2.60039687e-01 2.21372351e-01\n",
            "  5.04427433e-01]\n",
            " [5.71105257e-03 1.23871560e-03 3.87656659e-01 4.41641659e-01\n",
            "  1.63751870e-01]\n",
            " [9.70445457e-04 1.30015075e-01 6.01321638e-01 2.09327951e-01\n",
            "  5.83649240e-02]\n",
            " [2.11986946e-03 2.66064715e-04 1.92218661e-01 5.89947104e-01\n",
            "  2.15448275e-01]\n",
            " [1.92745923e-04 6.99612079e-04 7.75476396e-01 1.16749376e-01\n",
            "  1.06881902e-01]\n",
            " [9.52555623e-04 6.47838460e-05 3.08331162e-01 5.53792298e-01\n",
            "  1.36859268e-01]\n",
            " [1.83188356e-02 1.74809131e-04 1.67564169e-01 3.50224257e-01\n",
            "  4.63717878e-01]\n",
            " [7.36076559e-04 5.75881904e-06 3.63517582e-01 6.27181590e-01\n",
            "  8.55893735e-03]\n",
            " [9.96599090e-04 1.47069250e-05 1.75872371e-01 1.74489781e-01\n",
            "  6.48626566e-01]\n",
            " [2.83782661e-01 1.03678246e-06 1.25188425e-01 5.87791145e-01\n",
            "  3.23673198e-03]\n",
            " [4.33789182e-07 2.28990868e-10 6.19403496e-02 3.97470295e-01\n",
            "  5.40588975e-01]\n",
            " [1.79142710e-02 2.80226141e-05 1.57058135e-01 7.78569341e-01\n",
            "  4.64302599e-02]\n",
            " [1.02962824e-02 6.75718475e-04 4.76477474e-01 2.84437865e-01\n",
            "  2.28112653e-01]\n",
            " [8.28923567e-06 4.78713567e-08 7.22604752e-01 1.84704110e-01\n",
            "  9.26827639e-02]\n",
            " [1.37324340e-03 1.40381178e-06 2.01091081e-01 6.18960142e-01\n",
            "  1.78574100e-01]\n",
            " [6.24020468e-04 1.31049391e-03 2.93605059e-01 6.10080659e-01\n",
            "  9.43797231e-02]\n",
            " [1.32431276e-03 1.23368254e-05 2.63593167e-01 2.70734519e-01\n",
            "  4.64335650e-01]\n",
            " [2.01661038e-04 1.26517207e-05 1.02981040e-02 8.88171732e-01\n",
            "  1.01315849e-01]\n",
            " [8.13199949e-05 2.49947043e-04 2.36245483e-01 7.34995067e-01\n",
            "  2.84281541e-02]\n",
            " [1.50338354e-04 1.21829298e-05 1.41071714e-02 6.87137008e-01\n",
            "  2.98593283e-01]\n",
            " [4.47653374e-03 1.73106218e-05 8.48440528e-02 5.74156523e-01\n",
            "  3.36505532e-01]\n",
            " [6.41393105e-10 1.67123471e-06 9.99289513e-01 1.83166994e-04\n",
            "  5.25566284e-04]\n",
            " [3.51366652e-05 4.77883896e-06 2.43784949e-01 2.43066490e-01\n",
            "  5.13108671e-01]\n",
            " [1.56306851e-04 4.40826486e-09 3.06070149e-01 6.81946933e-01\n",
            "  1.18266214e-02]\n",
            " [3.63033439e-04 5.77626284e-04 5.75157702e-01 1.43677086e-01\n",
            "  2.80224502e-01]\n",
            " [3.15232814e-04 4.70758314e-05 2.31923923e-01 1.76031724e-01\n",
            "  5.91681957e-01]\n",
            " [2.46552401e-03 1.16610760e-02 2.00131997e-01 7.45647848e-02\n",
            "  7.11176574e-01]\n",
            " [1.15662336e-03 7.56245354e-05 1.28913313e-01 3.73844653e-01\n",
            "  4.96009856e-01]\n",
            " [6.78120693e-03 3.37035279e-04 3.35309386e-01 4.96414810e-01\n",
            "  1.61157534e-01]\n",
            " [4.90853516e-03 2.70597440e-07 1.74038261e-01 7.90609121e-01\n",
            "  3.04438230e-02]\n",
            " [9.97505849e-04 1.53000349e-06 2.41442174e-01 7.34962583e-01\n",
            "  2.25962009e-02]]\n"
          ],
          "name": "stdout"
        }
      ]
    },
    {
      "cell_type": "code",
      "metadata": {
        "id": "iv24VC8_ysON",
        "colab_type": "code",
        "colab": {
          "base_uri": "https://localhost:8080/",
          "height": 1000
        },
        "outputId": "a94606ea-7d16-40e1-d921-b6efaba49493"
      },
      "source": [
        "rounded_predictions = np.argmax(predictions, axis=-1)\n",
        "for i in rounded_predictions:\n",
        "  print(i)"
      ],
      "execution_count": null,
      "outputs": [
        {
          "output_type": "stream",
          "text": [
            "3\n",
            "3\n",
            "4\n",
            "4\n",
            "4\n",
            "4\n",
            "3\n",
            "2\n",
            "3\n",
            "2\n",
            "4\n",
            "3\n",
            "3\n",
            "3\n",
            "2\n",
            "4\n",
            "2\n",
            "3\n",
            "3\n",
            "3\n",
            "2\n",
            "2\n",
            "3\n",
            "2\n",
            "4\n",
            "3\n",
            "4\n",
            "4\n",
            "3\n",
            "2\n",
            "4\n",
            "4\n",
            "3\n",
            "4\n",
            "3\n",
            "3\n",
            "3\n",
            "3\n",
            "3\n",
            "3\n",
            "2\n",
            "2\n",
            "2\n",
            "2\n",
            "4\n",
            "2\n",
            "2\n",
            "2\n",
            "2\n",
            "3\n",
            "3\n",
            "3\n",
            "3\n",
            "3\n",
            "3\n",
            "4\n",
            "3\n",
            "4\n",
            "4\n",
            "3\n",
            "0\n",
            "0\n",
            "2\n",
            "2\n",
            "2\n",
            "4\n",
            "3\n",
            "2\n",
            "2\n",
            "3\n",
            "2\n",
            "3\n",
            "4\n",
            "3\n",
            "3\n",
            "2\n",
            "3\n",
            "2\n",
            "2\n",
            "4\n",
            "4\n",
            "2\n",
            "3\n",
            "2\n",
            "2\n",
            "2\n",
            "2\n",
            "3\n",
            "2\n",
            "4\n",
            "4\n",
            "2\n",
            "3\n",
            "4\n",
            "4\n",
            "3\n",
            "4\n",
            "3\n",
            "3\n",
            "3\n",
            "3\n",
            "3\n",
            "4\n",
            "4\n",
            "2\n",
            "3\n",
            "2\n",
            "3\n",
            "3\n",
            "3\n",
            "3\n",
            "2\n",
            "4\n",
            "2\n",
            "4\n",
            "3\n",
            "2\n",
            "4\n",
            "4\n",
            "3\n",
            "2\n",
            "4\n",
            "3\n",
            "3\n",
            "3\n",
            "3\n",
            "4\n",
            "3\n",
            "4\n",
            "3\n",
            "4\n",
            "3\n",
            "2\n",
            "2\n",
            "2\n",
            "3\n",
            "4\n",
            "4\n",
            "3\n",
            "2\n",
            "3\n",
            "2\n",
            "4\n",
            "4\n",
            "2\n",
            "3\n",
            "4\n",
            "3\n",
            "3\n",
            "4\n",
            "3\n",
            "2\n",
            "3\n",
            "2\n",
            "3\n",
            "4\n",
            "3\n",
            "4\n",
            "3\n",
            "4\n",
            "3\n",
            "2\n",
            "2\n",
            "3\n",
            "3\n",
            "4\n",
            "3\n",
            "3\n",
            "3\n",
            "3\n",
            "2\n",
            "4\n",
            "3\n",
            "2\n",
            "4\n",
            "4\n",
            "4\n",
            "3\n",
            "3\n",
            "3\n",
            "0\n"
          ],
          "name": "stdout"
        }
      ]
    },
    {
      "cell_type": "code",
      "metadata": {
        "id": "x8VOBK5Guio1",
        "colab_type": "code",
        "colab": {}
      },
      "source": [
        "#Creating Confusion matrix for further optimization\n",
        "#without normalization\n",
        "\n",
        "y_pred = rounded_predictions[0:15]\n",
        "y_true = [3,2,4,4,4,4,4,2,2,3,2,3,4,3,3] #Needed to be entered manually\n",
        "cm = confusion_matrix(y_pred, y_true)\n",
        "\n",
        "def plot_confusion_matrix(cm, classes,\n",
        "                          normalize=False,\n",
        "                          title='Confusion matrix',\n",
        "                          cmap=plt.cm.Blues):\n",
        "    \n",
        "    plt.imshow(cm, interpolation='nearest', cmap=cmap)\n",
        "    plt.title(title)\n",
        "    plt.colorbar()\n",
        "    tick_marks = np.arange(len(classes))\n",
        "    plt.xticks(tick_marks, classes, rotation=45)\n",
        "    plt.yticks(tick_marks, classes)\n",
        "\n",
        "    if normalize:\n",
        "        cm = cm.astype('float') / cm.sum(axis=1)[:, np.newaxis]\n",
        "        print(\"Normalized confusion matrix\")\n",
        "    else:\n",
        "        print('Confusion matrix, without normalization')\n",
        "\n",
        "    print(cm)\n",
        "\n",
        "    thresh = cm.max() / 2.\n",
        "    for i, j in itertools.product(range(cm.shape[0]), range(cm.shape[1])):\n",
        "        plt.text(j, i, cm[i, j],\n",
        "                 horizontalalignment=\"center\",\n",
        "                 color=\"white\" if cm[i, j] > thresh else \"black\")\n",
        "\n",
        "    plt.tight_layout()\n",
        "    plt.ylabel('True label')\n",
        "    plt.xlabel('Predicted label')"
      ],
      "execution_count": null,
      "outputs": []
    },
    {
      "cell_type": "code",
      "metadata": {
        "id": "yjEuh6q0vL46",
        "colab_type": "code",
        "colab": {
          "base_uri": "https://localhost:8080/",
          "height": 378
        },
        "outputId": "ba021f3f-21bc-4603-f774-e25833d52b86"
      },
      "source": [
        "cm_plot_labels = ['221','321','2212']\n",
        "plot_confusion_matrix(cm, cm_plot_labels, title='Confusion Matrix')"
      ],
      "execution_count": null,
      "outputs": [
        {
          "output_type": "stream",
          "text": [
            "Confusion matrix, without normalization\n",
            "[[1 2 0]\n",
            " [2 3 2]\n",
            " [1 0 4]]\n"
          ],
          "name": "stdout"
        },
        {
          "output_type": "display_data",
          "data": {
            "image/png": "[encoded data removed]",
            "text/plain": [
              "<Figure size 432x288 with 2 Axes>"
            ]
          },
          "metadata": {
            "tags": [],
            "needs_background": "light"
          }
        }
      ]
    },
    {
      "cell_type": "code",
      "metadata": {
        "id": "iweSW6JTv2b5",
        "colab_type": "code",
        "colab": {
          "base_uri": "https://localhost:8080/",
          "height": 395
        },
        "outputId": "6bec6950-bced-47a9-d648-b5a0339f5332"
      },
      "source": [
        "#with normalization\n",
        "\n",
        "y_pred = rounded_predictions[0:15]\n",
        "print(y_pred)\n",
        "y_true = [3,2,4,4,4,4,4,2,2,3,2,3,4,3,3]\n",
        "cm = confusion_matrix(y_pred, y_true)\n",
        "def plot_confusion_matrix(cm, classes,\n",
        "                          normalize=True,\n",
        "                          title='Confusion matrix',\n",
        "                          cmap=plt.cm.Blues):\n",
        "  \n",
        "    plt.imshow(cm, interpolation='nearest', cmap=cmap)\n",
        "    plt.title(title)\n",
        "    plt.colorbar()\n",
        "    tick_marks = np.arange(len(classes))\n",
        "    plt.xticks(tick_marks, classes, rotation=45)\n",
        "    plt.yticks(tick_marks, classes)\n",
        "\n",
        "    if normalize:\n",
        "        cm = cm.astype('float') / cm.sum(axis=1)[:, np.newaxis]\n",
        "        print(\"Normalized confusion matrix\")\n",
        "    else:\n",
        "        print('Confusion matrix, without normalization')\n",
        "\n",
        "    print(cm)\n",
        "\n",
        "    thresh = cm.max() / 2.\n",
        "    for i, j in itertools.product(range(cm.shape[0]), range(cm.shape[1])):\n",
        "        plt.text(j, i, cm[i, j],\n",
        "                 horizontalalignment=\"center\",\n",
        "                 color=\"white\" if cm[i, j] > thresh else \"black\")\n",
        "\n",
        "    plt.tight_layout()\n",
        "    plt.ylabel('True label')\n",
        "    plt.xlabel('Predicted label')\n",
        "\n",
        "cm_plot_labels = ['221','321','2212']\n",
        "plot_confusion_matrix(cm, cm_plot_labels, title='Confusion Matrix')"
      ],
      "execution_count": null,
      "outputs": [
        {
          "output_type": "stream",
          "text": [
            "[3 3 4 4 4 4 3 2 3 2 4 3 3 3 2]\n",
            "Normalized confusion matrix\n",
            "[[0.33333333 0.66666667 0.        ]\n",
            " [0.28571429 0.42857143 0.28571429]\n",
            " [0.2        0.         0.8       ]]\n"
          ],
          "name": "stdout"
        },
        {
          "output_type": "display_data",
          "data": {
            "image/png": "[encoded data removed]",
            "text/plain": [
              "<Figure size 432x288 with 2 Axes>"
            ]
          },
          "metadata": {
            "tags": [],
            "needs_background": "light"
          }
        }
      ]
    },
    {
      "cell_type": "code",
      "metadata": {
        "id": "IJmuwELgwF-0",
        "colab_type": "code",
        "colab": {}
      },
      "source": [
        ""
      ],
      "execution_count": null,
      "outputs": []
    },
    {
      "cell_type": "code",
      "metadata": {
        "id": "1HpxtjFxpzte",
        "colab_type": "code",
        "colab": {}
      },
      "source": [
        ""
      ],
      "execution_count": null,
      "outputs": []
    }
  ]
}